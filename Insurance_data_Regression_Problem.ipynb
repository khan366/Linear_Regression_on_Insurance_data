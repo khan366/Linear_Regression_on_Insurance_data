{
 "cells": [
  {
   "cell_type": "markdown",
   "metadata": {},
   "source": [
    "Consider the data present in the Insurance dataset file.<br>\n",
    "Following is the attribute related information:<br><br>\n",
    "\n",
    "age: age of primary beneficiary<br>\n",
    "sex: insurance contractor gender, female, male<br>\n",
    "bmi: Body mass index, providing an understanding of body, weights that are relatively high or low relative to height,\n",
    "objective index of body weight (kg / m ^ 2) using the ratio of height to weight, ideally 18.5 to 24.9<br>\n",
    "children: Number of children covered by health insurance / Number of dependents<br>\n",
    "smoker: Smoking, yes or no<br>\n",
    "region: the beneficiary's residential area in the US, northeast, southeast, southwest, northwest.<br>\n",
    "charges: Individual medical costs billed by health insurance<br><br>\n",
    "\n",
    "Problem statement: To predict the approximate insurance cost based upon the rest of the features provided for each individual."
   ]
  },
  {
   "cell_type": "markdown",
   "metadata": {},
   "source": [
    "Import the libraries- Pandas, Numpy, Matplotlib and Seaborn"
   ]
  },
  {
   "cell_type": "code",
   "execution_count": 1,
   "metadata": {},
   "outputs": [],
   "source": [
    "import pandas as pd\n",
    "import numpy as np\n",
    "import matplotlib.pyplot as plt\n",
    "import seaborn as sns"
   ]
  },
  {
   "cell_type": "markdown",
   "metadata": {},
   "source": [
    "Create a dataframe named \"data\" from the given datafile and print it's head"
   ]
  },
  {
   "cell_type": "code",
   "execution_count": 2,
   "metadata": {
    "scrolled": false
   },
   "outputs": [
    {
     "data": {
      "text/html": [
       "<div>\n",
       "<style scoped>\n",
       "    .dataframe tbody tr th:only-of-type {\n",
       "        vertical-align: middle;\n",
       "    }\n",
       "\n",
       "    .dataframe tbody tr th {\n",
       "        vertical-align: top;\n",
       "    }\n",
       "\n",
       "    .dataframe thead th {\n",
       "        text-align: right;\n",
       "    }\n",
       "</style>\n",
       "<table border=\"1\" class=\"dataframe\">\n",
       "  <thead>\n",
       "    <tr style=\"text-align: right;\">\n",
       "      <th></th>\n",
       "      <th>age</th>\n",
       "      <th>sex</th>\n",
       "      <th>bmi</th>\n",
       "      <th>children</th>\n",
       "      <th>smoker</th>\n",
       "      <th>region</th>\n",
       "      <th>charges</th>\n",
       "    </tr>\n",
       "  </thead>\n",
       "  <tbody>\n",
       "    <tr>\n",
       "      <th>0</th>\n",
       "      <td>19</td>\n",
       "      <td>female</td>\n",
       "      <td>27.900</td>\n",
       "      <td>0</td>\n",
       "      <td>yes</td>\n",
       "      <td>southwest</td>\n",
       "      <td>16884.92400</td>\n",
       "    </tr>\n",
       "    <tr>\n",
       "      <th>1</th>\n",
       "      <td>18</td>\n",
       "      <td>male</td>\n",
       "      <td>33.770</td>\n",
       "      <td>1</td>\n",
       "      <td>no</td>\n",
       "      <td>southeast</td>\n",
       "      <td>1725.55230</td>\n",
       "    </tr>\n",
       "    <tr>\n",
       "      <th>2</th>\n",
       "      <td>28</td>\n",
       "      <td>male</td>\n",
       "      <td>33.000</td>\n",
       "      <td>3</td>\n",
       "      <td>no</td>\n",
       "      <td>southeast</td>\n",
       "      <td>4449.46200</td>\n",
       "    </tr>\n",
       "    <tr>\n",
       "      <th>3</th>\n",
       "      <td>33</td>\n",
       "      <td>male</td>\n",
       "      <td>22.705</td>\n",
       "      <td>0</td>\n",
       "      <td>no</td>\n",
       "      <td>northwest</td>\n",
       "      <td>21984.47061</td>\n",
       "    </tr>\n",
       "    <tr>\n",
       "      <th>4</th>\n",
       "      <td>32</td>\n",
       "      <td>male</td>\n",
       "      <td>28.880</td>\n",
       "      <td>0</td>\n",
       "      <td>no</td>\n",
       "      <td>northwest</td>\n",
       "      <td>3866.85520</td>\n",
       "    </tr>\n",
       "    <tr>\n",
       "      <th>5</th>\n",
       "      <td>31</td>\n",
       "      <td>female</td>\n",
       "      <td>25.740</td>\n",
       "      <td>0</td>\n",
       "      <td>no</td>\n",
       "      <td>southeast</td>\n",
       "      <td>3756.62160</td>\n",
       "    </tr>\n",
       "    <tr>\n",
       "      <th>6</th>\n",
       "      <td>46</td>\n",
       "      <td>female</td>\n",
       "      <td>33.440</td>\n",
       "      <td>1</td>\n",
       "      <td>no</td>\n",
       "      <td>southeast</td>\n",
       "      <td>8240.58960</td>\n",
       "    </tr>\n",
       "    <tr>\n",
       "      <th>7</th>\n",
       "      <td>37</td>\n",
       "      <td>female</td>\n",
       "      <td>27.740</td>\n",
       "      <td>3</td>\n",
       "      <td>no</td>\n",
       "      <td>northwest</td>\n",
       "      <td>7281.50560</td>\n",
       "    </tr>\n",
       "    <tr>\n",
       "      <th>8</th>\n",
       "      <td>37</td>\n",
       "      <td>male</td>\n",
       "      <td>29.830</td>\n",
       "      <td>2</td>\n",
       "      <td>no</td>\n",
       "      <td>northeast</td>\n",
       "      <td>6406.41070</td>\n",
       "    </tr>\n",
       "    <tr>\n",
       "      <th>9</th>\n",
       "      <td>60</td>\n",
       "      <td>female</td>\n",
       "      <td>25.840</td>\n",
       "      <td>0</td>\n",
       "      <td>no</td>\n",
       "      <td>northwest</td>\n",
       "      <td>28923.13692</td>\n",
       "    </tr>\n",
       "  </tbody>\n",
       "</table>\n",
       "</div>"
      ],
      "text/plain": [
       "   age     sex     bmi  children smoker     region      charges\n",
       "0   19  female  27.900         0    yes  southwest  16884.92400\n",
       "1   18    male  33.770         1     no  southeast   1725.55230\n",
       "2   28    male  33.000         3     no  southeast   4449.46200\n",
       "3   33    male  22.705         0     no  northwest  21984.47061\n",
       "4   32    male  28.880         0     no  northwest   3866.85520\n",
       "5   31  female  25.740         0     no  southeast   3756.62160\n",
       "6   46  female  33.440         1     no  southeast   8240.58960\n",
       "7   37  female  27.740         3     no  northwest   7281.50560\n",
       "8   37    male  29.830         2     no  northeast   6406.41070\n",
       "9   60  female  25.840         0     no  northwest  28923.13692"
      ]
     },
     "execution_count": 2,
     "metadata": {},
     "output_type": "execute_result"
    }
   ],
   "source": [
    "data=pd.read_csv(r'datasets_insurance.csv')\n",
    "data.head(10)"
   ]
  },
  {
   "cell_type": "markdown",
   "metadata": {},
   "source": [
    "Understand the problem statement and the data, try understanding importance of each variable given.<br>\n",
    "Perform Exploratory Data Analysis- print datatypes, dimension and descriptive statistics."
   ]
  },
  {
   "cell_type": "code",
   "execution_count": 3,
   "metadata": {},
   "outputs": [
    {
     "name": "stdout",
     "output_type": "stream",
     "text": [
      "age           int64\n",
      "sex          object\n",
      "bmi         float64\n",
      "children      int64\n",
      "smoker       object\n",
      "region       object\n",
      "charges     float64\n",
      "dtype: object\n",
      "(1338, 7)\n",
      "<bound method NDFrame.describe of       age     sex     bmi  children smoker     region      charges\n",
      "0      19  female  27.900         0    yes  southwest  16884.92400\n",
      "1      18    male  33.770         1     no  southeast   1725.55230\n",
      "2      28    male  33.000         3     no  southeast   4449.46200\n",
      "3      33    male  22.705         0     no  northwest  21984.47061\n",
      "4      32    male  28.880         0     no  northwest   3866.85520\n",
      "...   ...     ...     ...       ...    ...        ...          ...\n",
      "1333   50    male  30.970         3     no  northwest  10600.54830\n",
      "1334   18  female  31.920         0     no  northeast   2205.98080\n",
      "1335   18  female  36.850         0     no  southeast   1629.83350\n",
      "1336   21  female  25.800         0     no  southwest   2007.94500\n",
      "1337   61  female  29.070         0    yes  northwest  29141.36030\n",
      "\n",
      "[1338 rows x 7 columns]>\n"
     ]
    }
   ],
   "source": [
    "print(data.dtypes)\n",
    "print(data.shape)\n",
    "print(data.describe)"
   ]
  },
  {
   "cell_type": "markdown",
   "metadata": {},
   "source": [
    "Check if there are missing values. If yes, handle them."
   ]
  },
  {
   "cell_type": "code",
   "execution_count": 4,
   "metadata": {
    "scrolled": true
   },
   "outputs": [
    {
     "data": {
      "text/plain": [
       "age         0\n",
       "sex         0\n",
       "bmi         0\n",
       "children    0\n",
       "smoker      0\n",
       "region      0\n",
       "charges     0\n",
       "dtype: int64"
      ]
     },
     "execution_count": 4,
     "metadata": {},
     "output_type": "execute_result"
    }
   ],
   "source": [
    "data.isnull().sum()\n",
    "#checking if there is any null value"
   ]
  },
  {
   "cell_type": "code",
   "execution_count": 5,
   "metadata": {},
   "outputs": [
    {
     "name": "stdout",
     "output_type": "stream",
     "text": [
      "{'age': array([19, 18, 28, 33, 32, 31, 46, 37, 60, 25, 62, 23, 56, 27, 52, 30, 34,\n",
      "       59, 63, 55, 22, 26, 35, 24, 41, 38, 36, 21, 48, 40, 58, 53, 43, 64,\n",
      "       20, 61, 44, 57, 29, 45, 54, 49, 47, 51, 42, 50, 39], dtype=int64)}\n",
      "{'sex': array(['female', 'male'], dtype=object)}\n",
      "{'bmi': array([27.9  , 33.77 , 33.   , 22.705, 28.88 , 25.74 , 33.44 , 27.74 ,\n",
      "       29.83 , 25.84 , 26.22 , 26.29 , 34.4  , 39.82 , 42.13 , 24.6  ,\n",
      "       30.78 , 23.845, 40.3  , 35.3  , 36.005, 32.4  , 34.1  , 31.92 ,\n",
      "       28.025, 27.72 , 23.085, 32.775, 17.385, 36.3  , 35.6  , 26.315,\n",
      "       28.6  , 28.31 , 36.4  , 20.425, 32.965, 20.8  , 36.67 , 39.9  ,\n",
      "       26.6  , 36.63 , 21.78 , 30.8  , 37.05 , 37.3  , 38.665, 34.77 ,\n",
      "       24.53 , 35.2  , 35.625, 33.63 , 28.   , 34.43 , 28.69 , 36.955,\n",
      "       31.825, 31.68 , 22.88 , 37.335, 27.36 , 33.66 , 24.7  , 25.935,\n",
      "       22.42 , 28.9  , 39.1  , 36.19 , 23.98 , 24.75 , 28.5  , 28.1  ,\n",
      "       32.01 , 27.4  , 34.01 , 29.59 , 35.53 , 39.805, 26.885, 38.285,\n",
      "       37.62 , 41.23 , 34.8  , 22.895, 31.16 , 27.2  , 26.98 , 39.49 ,\n",
      "       24.795, 31.3  , 38.28 , 19.95 , 19.3  , 31.6  , 25.46 , 30.115,\n",
      "       29.92 , 27.5  , 28.4  , 30.875, 27.94 , 35.09 , 29.7  , 35.72 ,\n",
      "       32.205, 28.595, 49.06 , 27.17 , 23.37 , 37.1  , 23.75 , 28.975,\n",
      "       31.35 , 33.915, 28.785, 28.3  , 37.4  , 17.765, 34.7  , 26.505,\n",
      "       22.04 , 35.9  , 25.555, 28.05 , 25.175, 31.9  , 36.   , 32.49 ,\n",
      "       25.3  , 29.735, 38.83 , 30.495, 37.73 , 37.43 , 24.13 , 37.145,\n",
      "       39.52 , 24.42 , 27.83 , 36.85 , 39.6  , 29.8  , 29.64 , 28.215,\n",
      "       37.   , 33.155, 18.905, 41.47 , 30.3  , 15.96 , 33.345, 37.7  ,\n",
      "       27.835, 29.2  , 26.41 , 30.69 , 41.895, 30.9  , 32.2  , 32.11 ,\n",
      "       31.57 , 26.2  , 30.59 , 32.8  , 18.05 , 39.33 , 32.23 , 24.035,\n",
      "       36.08 , 22.3  , 26.4  , 31.8  , 26.73 , 23.1  , 23.21 , 33.7  ,\n",
      "       33.25 , 24.64 , 33.88 , 38.06 , 41.91 , 31.635, 36.195, 17.8  ,\n",
      "       24.51 , 22.22 , 38.39 , 29.07 , 22.135, 26.8  , 30.02 , 35.86 ,\n",
      "       20.9  , 17.29 , 34.21 , 25.365, 40.15 , 24.415, 25.2  , 26.84 ,\n",
      "       24.32 , 42.35 , 19.8  , 32.395, 30.2  , 29.37 , 34.2  , 27.455,\n",
      "       27.55 , 20.615, 24.3  , 31.79 , 21.56 , 28.12 , 40.565, 27.645,\n",
      "       31.2  , 26.62 , 48.07 , 36.765, 33.4  , 45.54 , 28.82 , 22.99 ,\n",
      "       27.7  , 25.41 , 34.39 , 22.61 , 37.51 , 38.   , 33.33 , 34.865,\n",
      "       33.06 , 35.97 , 31.4  , 25.27 , 40.945, 34.105, 36.48 , 33.8  ,\n",
      "       36.7  , 36.385, 34.5  , 32.3  , 27.6  , 29.26 , 35.75 , 23.18 ,\n",
      "       25.6  , 35.245, 43.89 , 20.79 , 30.5  , 21.7  , 21.89 , 24.985,\n",
      "       32.015, 30.4  , 21.09 , 22.23 , 32.9  , 24.89 , 31.46 , 17.955,\n",
      "       30.685, 43.34 , 39.05 , 30.21 , 31.445, 19.855, 31.02 , 38.17 ,\n",
      "       20.6  , 47.52 , 20.4  , 38.38 , 24.31 , 23.6  , 21.12 , 30.03 ,\n",
      "       17.48 , 20.235, 17.195, 23.9  , 35.15 , 35.64 , 22.6  , 39.16 ,\n",
      "       27.265, 29.165, 16.815, 33.1  , 26.9  , 33.11 , 31.73 , 46.75 ,\n",
      "       29.45 , 32.68 , 33.5  , 43.01 , 36.52 , 26.695, 25.65 , 29.6  ,\n",
      "       38.6  , 23.4  , 46.53 , 30.14 , 30.   , 38.095, 28.38 , 28.7  ,\n",
      "       33.82 , 24.09 , 32.67 , 25.1  , 32.56 , 41.325, 39.5  , 34.3  ,\n",
      "       31.065, 21.47 , 25.08 , 43.4  , 25.7  , 27.93 , 39.2  , 26.03 ,\n",
      "       30.25 , 28.93 , 35.7  , 35.31 , 31.   , 44.22 , 26.07 , 25.8  ,\n",
      "       39.425, 40.48 , 38.9  , 47.41 , 35.435, 46.7  , 46.2  , 21.4  ,\n",
      "       23.8  , 44.77 , 32.12 , 29.1  , 37.29 , 43.12 , 36.86 , 34.295,\n",
      "       23.465, 45.43 , 23.65 , 20.7  , 28.27 , 35.91 , 29.   , 19.57 ,\n",
      "       31.13 , 21.85 , 40.26 , 33.725, 29.48 , 32.6  , 37.525, 23.655,\n",
      "       37.8  , 19.   , 21.3  , 33.535, 42.46 , 38.95 , 36.1  , 29.3  ,\n",
      "       39.7  , 38.19 , 42.4  , 34.96 , 42.68 , 31.54 , 29.81 , 21.375,\n",
      "       40.81 , 17.4  , 20.3  , 18.5  , 26.125, 41.69 , 24.1  , 36.2  ,\n",
      "       40.185, 39.27 , 34.87 , 44.745, 29.545, 23.54 , 40.47 , 40.66 ,\n",
      "       36.6  , 35.4  , 27.075, 28.405, 21.755, 40.28 , 30.1  , 32.1  ,\n",
      "       23.7  , 35.5  , 29.15 , 27.   , 37.905, 22.77 , 22.8  , 34.58 ,\n",
      "       27.1  , 19.475, 26.7  , 34.32 , 24.4  , 41.14 , 22.515, 41.8  ,\n",
      "       26.18 , 42.24 , 26.51 , 35.815, 41.42 , 36.575, 42.94 , 21.01 ,\n",
      "       24.225, 17.67 , 31.5  , 31.1  , 32.78 , 32.45 , 50.38 , 47.6  ,\n",
      "       25.4  , 29.9  , 43.7  , 24.86 , 28.8  , 29.5  , 29.04 , 38.94 ,\n",
      "       44.   , 20.045, 40.92 , 35.1  , 29.355, 32.585, 32.34 , 39.8  ,\n",
      "       24.605, 33.99 , 28.2  , 25.   , 33.2  , 23.2  , 20.1  , 32.5  ,\n",
      "       37.18 , 46.09 , 39.93 , 35.8  , 31.255, 18.335, 42.9  , 26.79 ,\n",
      "       39.615, 25.9  , 25.745, 28.16 , 23.56 , 40.5  , 35.42 , 39.995,\n",
      "       34.675, 20.52 , 23.275, 36.29 , 32.7  , 19.19 , 20.13 , 23.32 ,\n",
      "       45.32 , 34.6  , 18.715, 21.565, 23.   , 37.07 , 52.58 , 42.655,\n",
      "       21.66 , 32.   , 18.3  , 47.74 , 22.1  , 19.095, 31.24 , 29.925,\n",
      "       20.35 , 25.85 , 42.75 , 18.6  , 23.87 , 45.9  , 21.5  , 30.305,\n",
      "       44.88 , 41.1  , 40.37 , 28.49 , 33.55 , 40.375, 27.28 , 17.86 ,\n",
      "       33.3  , 39.14 , 21.945, 24.97 , 23.94 , 34.485, 21.8  , 23.3  ,\n",
      "       36.96 , 21.28 , 29.4  , 27.3  , 37.9  , 37.715, 23.76 , 25.52 ,\n",
      "       27.61 , 27.06 , 39.4  , 34.9  , 22.   , 30.36 , 27.8  , 53.13 ,\n",
      "       39.71 , 32.87 , 44.7  , 30.97 ])}\n",
      "{'children': array([0, 1, 3, 2, 5, 4], dtype=int64)}\n",
      "{'smoker': array(['yes', 'no'], dtype=object)}\n",
      "{'region': array(['southwest', 'southeast', 'northwest', 'northeast'], dtype=object)}\n",
      "{'charges': array([16884.924 ,  1725.5523,  4449.462 , ...,  1629.8335,  2007.945 ,\n",
      "       29141.3603])}\n"
     ]
    }
   ],
   "source": [
    "#As we don't find any null value we will try if there are any special charecter insted of np.nan or null \n",
    "for i in data.columns:\n",
    "    print({i:data[i].unique()}) #finding all the unique values"
   ]
  },
  {
   "cell_type": "markdown",
   "metadata": {},
   "source": [
    "Check for Assumption 1- There should be no outliers in the data.<br>\n",
    "Hint: Think logically, nothing needs to be worked upon here."
   ]
  },
  {
   "cell_type": "code",
   "execution_count": 6,
   "metadata": {},
   "outputs": [
    {
     "data": {
      "image/png": "[encoded data removed]",
      "text/plain": [
       "<Figure size 432x288 with 1 Axes>"
      ]
     },
     "metadata": {
      "needs_background": "light"
     },
     "output_type": "display_data"
    },
    {
     "data": {
      "image/png": "[encoded data removed]",
      "text/plain": [
       "<Figure size 432x288 with 1 Axes>"
      ]
     },
     "metadata": {
      "needs_background": "light"
     },
     "output_type": "display_data"
    },
    {
     "data": {
      "image/png": "[encoded data removed]",
      "text/plain": [
       "<Figure size 432x288 with 1 Axes>"
      ]
     },
     "metadata": {
      "needs_background": "light"
     },
     "output_type": "display_data"
    },
    {
     "data": {
      "image/png": "[encoded data removed]",
      "text/plain": [
       "<Figure size 432x288 with 1 Axes>"
      ]
     },
     "metadata": {
      "needs_background": "light"
     },
     "output_type": "display_data"
    }
   ],
   "source": [
    "# check using the boxplot\n",
    "columns_to_plot = ['age', 'bmi', 'children', 'charges']\n",
    "\n",
    "for column in columns_to_plot:\n",
    "    data.boxplot(column)\n",
    "    plt.show()"
   ]
  },
  {
   "cell_type": "raw",
   "metadata": {},
   "source": [
    "There are 2 column in which outlier are present they are bmi and charges as bmi have less outlier they will not affect our model and As the charges depend on various factor in these column we can aspect charges to have outlier and there are many high value data so we will not do any thing to the outlier of charges"
   ]
  },
  {
   "cell_type": "markdown",
   "metadata": {},
   "source": [
    "Check for Assumption 2-Assumption of Linearity<br>\n",
    "Hint: Use kind=\"scatter\" in the pairplot, because it wont be able to fit a line in categorical variables. Some might show no relationship, but remember they are categorical or important variables, leave it as it is."
   ]
  },
  {
   "cell_type": "code",
   "execution_count": 7,
   "metadata": {},
   "outputs": [
    {
     "data": {
      "text/plain": [
       "Index(['age', 'sex', 'bmi', 'children', 'smoker', 'region', 'charges'], dtype='object')"
      ]
     },
     "execution_count": 7,
     "metadata": {},
     "output_type": "execute_result"
    }
   ],
   "source": [
    "data.columns"
   ]
  },
  {
   "cell_type": "code",
   "execution_count": 8,
   "metadata": {},
   "outputs": [
    {
     "data": {
      "image/png": "[encoded data removed]",
      "text/plain": [
       "<Figure size 1080x180 with 6 Axes>"
      ]
     },
     "metadata": {
      "needs_background": "light"
     },
     "output_type": "display_data"
    }
   ],
   "source": [
    "sns.pairplot(data, x_vars=['age', 'sex', 'bmi', 'children', 'smoker', 'region'],\n",
    "            y_vars=['charges'], kind=\"scatter\")\n",
    "plt.show()"
   ]
  },
  {
   "cell_type": "raw",
   "metadata": {},
   "source": [
    "There are linearity between charges and age whereas there are no linearity between any other variable as shown in above chart"
   ]
  },
  {
   "cell_type": "markdown",
   "metadata": {},
   "source": [
    "Create X and Y"
   ]
  },
  {
   "cell_type": "code",
   "execution_count": 9,
   "metadata": {},
   "outputs": [],
   "source": [
    "#we will seperate the dependent and independent variables \n",
    "X=data.loc[:,['age', 'sex', 'bmi', 'children', 'smoker', 'region']]\n",
    "Y=data.loc[:,'charges']"
   ]
  },
  {
   "cell_type": "code",
   "execution_count": 10,
   "metadata": {},
   "outputs": [
    {
     "name": "stdout",
     "output_type": "stream",
     "text": [
      "(1338, 6)\n",
      "(1338,)\n"
     ]
    }
   ],
   "source": [
    "print(X.shape)\n",
    "print(Y.shape)\n"
   ]
  },
  {
   "cell_type": "markdown",
   "metadata": {},
   "source": [
    "Check for Assumption 3-Assumption of Normality <br>\n",
    "Hint: You will find the data is highly positively skewed. So log transform the data."
   ]
  },
  {
   "cell_type": "code",
   "execution_count": 11,
   "metadata": {
    "scrolled": true
   },
   "outputs": [],
   "source": [
    "import warnings\n",
    "warnings.filterwarnings(\"ignore\")\n"
   ]
  },
  {
   "cell_type": "code",
   "execution_count": 12,
   "metadata": {},
   "outputs": [
    {
     "data": {
      "image/png": "[encoded data removed]",
      "text/plain": [
       "<Figure size 432x288 with 1 Axes>"
      ]
     },
     "metadata": {
      "needs_background": "light"
     },
     "output_type": "display_data"
    }
   ],
   "source": [
    "#distplot the dependent data to know whether it is skew or not\n",
    "sns.distplot(Y)\n",
    "plt.show()"
   ]
  },
  {
   "cell_type": "raw",
   "metadata": {},
   "source": [
    "As the dependent variable Y is skew we will log transform it to normal it"
   ]
  },
  {
   "cell_type": "code",
   "execution_count": 13,
   "metadata": {
    "scrolled": true
   },
   "outputs": [],
   "source": [
    "#log transformation\n",
    "Y_log=np.log(Y)"
   ]
  },
  {
   "cell_type": "code",
   "execution_count": 14,
   "metadata": {},
   "outputs": [
    {
     "data": {
      "image/png": "[encoded data removed]",
      "text/plain": [
       "<Figure size 432x288 with 1 Axes>"
      ]
     },
     "metadata": {
      "needs_background": "light"
     },
     "output_type": "display_data"
    }
   ],
   "source": [
    "sns.distplot(Y_log)\n",
    "plt.show()"
   ]
  },
  {
   "cell_type": "raw",
   "metadata": {},
   "source": [
    "The data has became normal now"
   ]
  },
  {
   "cell_type": "markdown",
   "metadata": {},
   "source": [
    "Convert Categorical variables to numerical- Sex, Smoker and Region<br>\n",
    "Hint: Make use of replace function. <br>\n",
    "Sex: Female-0,Male-1<br>\n",
    "Smoker: No-0, Yes-1<br>\n",
    "Regi\n",
    "on: northeast-0,northwest-1,southeast-2,southwest-3"
   ]
  },
  {
   "cell_type": "code",
   "execution_count": 15,
   "metadata": {},
   "outputs": [],
   "source": [
    "X[\"sex\"]=X[\"sex\"].map({'female':0,'male':1})\n",
    "X[\"smoker\"]=X[\"smoker\"].map({\"no\":0,\"yes\":1})\n",
    "X[\"region\"]=X[\"region\"].map({\"northeast\":0,\"northwest\":1,\"southeast\":2,\"southwest\":3})"
   ]
  },
  {
   "cell_type": "code",
   "execution_count": 16,
   "metadata": {},
   "outputs": [
    {
     "data": {
      "text/plain": [
       "0       0\n",
       "1       1\n",
       "2       1\n",
       "3       1\n",
       "4       1\n",
       "       ..\n",
       "1333    1\n",
       "1334    0\n",
       "1335    0\n",
       "1336    0\n",
       "1337    0\n",
       "Name: sex, Length: 1338, dtype: int64"
      ]
     },
     "execution_count": 16,
     "metadata": {},
     "output_type": "execute_result"
    }
   ],
   "source": [
    "X.sex"
   ]
  },
  {
   "cell_type": "markdown",
   "metadata": {},
   "source": [
    "Check for the normality in the X variables. <br>\n",
    "Hint: Some variables make not look normal but realize that they are actually discrete valued.\n",
    "    No transformation required."
   ]
  },
  {
   "cell_type": "code",
   "execution_count": 17,
   "metadata": {},
   "outputs": [
    {
     "data": {
      "image/png": "[encoded data removed]",
      "text/plain": [
       "<Figure size 432x288 with 6 Axes>"
      ]
     },
     "metadata": {
      "needs_background": "light"
     },
     "output_type": "display_data"
    }
   ],
   "source": [
    "X.hist(bins=20)\n",
    "plt.show()"
   ]
  },
  {
   "cell_type": "code",
   "execution_count": null,
   "metadata": {},
   "outputs": [],
   "source": [
    "#data_num_skew = X.apply(lambda x: skew(x.dropna()))\n",
    "#data_num_skewed = data_num_skew[(data_num_skew>0.75)| (data_num_skew < -0.75)]\n",
    " \n",
    "#print(data_num_skew)\n",
    "#print(data_num_skewed)"
   ]
  },
  {
   "cell_type": "code",
   "execution_count": null,
   "metadata": {},
   "outputs": [],
   "source": [
    "#apply log+ 1 transformation for all numeric features with skewness over 0.75\n",
    "#X[data_num_skewed.index] = np.log1p(X[data_num_skewed.index])"
   ]
  },
  {
   "cell_type": "markdown",
   "metadata": {},
   "source": [
    "Check for Assumption 4-No multicollinearity in the data<br>\n",
    "Try both the approaches-correlation and VIF.<br>\n",
    "Hint: You will find no high correlation. VIF might be high for a few variables but do not eliminate them because they are important as per the domain knowledge."
   ]
  },
  {
   "cell_type": "code",
   "execution_count": 18,
   "metadata": {},
   "outputs": [
    {
     "name": "stdout",
     "output_type": "stream",
     "text": [
      "               age       sex       bmi  children    smoker    region\n",
      "age       1.000000 -0.020856  0.109272  0.042469 -0.025019  0.002127\n",
      "sex      -0.020856  1.000000  0.046371  0.017163  0.076185  0.004588\n",
      "bmi       0.109272  0.046371  1.000000  0.012759  0.003750  0.157566\n",
      "children  0.042469  0.017163  0.012759  1.000000  0.007673  0.016569\n",
      "smoker   -0.025019  0.076185  0.003750  0.007673  1.000000 -0.002181\n",
      "region    0.002127  0.004588  0.157566  0.016569 -0.002181  1.000000\n"
     ]
    },
    {
     "data": {
      "image/png": "[encoded data removed]",
      "text/plain": [
       "<Figure size 432x288 with 2 Axes>"
      ]
     },
     "metadata": {
      "needs_background": "light"
     },
     "output_type": "display_data"
    }
   ],
   "source": [
    "corr_df=X.corr(method=\"pearson\")\n",
    "print(corr_df)\n",
    "  \n",
    "sns.heatmap(corr_df,vmax=1.0,vmin=-1.0,annot=True)\n",
    "plt.show()\n",
    "#We want values close to 0 means that is not correlated with each other"
   ]
  },
  {
   "cell_type": "raw",
   "metadata": {},
   "source": [
    "Note: If the correlation is high between two variable then drop one beacause both variable carrying the similar information\n",
    "      so eliminate the variable"
   ]
  },
  {
   "cell_type": "code",
   "execution_count": 19,
   "metadata": {},
   "outputs": [
    {
     "data": {
      "text/plain": [
       "array([[19.  ,  0.  , 27.9 ,  0.  ,  1.  ,  3.  ],\n",
       "       [18.  ,  1.  , 33.77,  1.  ,  0.  ,  2.  ],\n",
       "       [28.  ,  1.  , 33.  ,  3.  ,  0.  ,  2.  ],\n",
       "       ...,\n",
       "       [18.  ,  0.  , 36.85,  0.  ,  0.  ,  2.  ],\n",
       "       [21.  ,  0.  , 25.8 ,  0.  ,  0.  ,  3.  ],\n",
       "       [61.  ,  0.  , 29.07,  0.  ,  1.  ,  1.  ]])"
      ]
     },
     "execution_count": 19,
     "metadata": {},
     "output_type": "execute_result"
    }
   ],
   "source": [
    "X.values"
   ]
  },
  {
   "cell_type": "code",
   "execution_count": 20,
   "metadata": {
    "scrolled": true
   },
   "outputs": [
    {
     "data": {
      "text/html": [
       "<div>\n",
       "<style scoped>\n",
       "    .dataframe tbody tr th:only-of-type {\n",
       "        vertical-align: middle;\n",
       "    }\n",
       "\n",
       "    .dataframe tbody tr th {\n",
       "        vertical-align: top;\n",
       "    }\n",
       "\n",
       "    .dataframe thead th {\n",
       "        text-align: right;\n",
       "    }\n",
       "</style>\n",
       "<table border=\"1\" class=\"dataframe\">\n",
       "  <thead>\n",
       "    <tr style=\"text-align: right;\">\n",
       "      <th></th>\n",
       "      <th>features</th>\n",
       "      <th>VIF Factor</th>\n",
       "    </tr>\n",
       "  </thead>\n",
       "  <tbody>\n",
       "    <tr>\n",
       "      <th>0</th>\n",
       "      <td>age</td>\n",
       "      <td>7.55</td>\n",
       "    </tr>\n",
       "    <tr>\n",
       "      <th>1</th>\n",
       "      <td>sex</td>\n",
       "      <td>2.00</td>\n",
       "    </tr>\n",
       "    <tr>\n",
       "      <th>2</th>\n",
       "      <td>bmi</td>\n",
       "      <td>10.37</td>\n",
       "    </tr>\n",
       "    <tr>\n",
       "      <th>3</th>\n",
       "      <td>children</td>\n",
       "      <td>1.80</td>\n",
       "    </tr>\n",
       "    <tr>\n",
       "      <th>4</th>\n",
       "      <td>smoker</td>\n",
       "      <td>1.26</td>\n",
       "    </tr>\n",
       "    <tr>\n",
       "      <th>5</th>\n",
       "      <td>region</td>\n",
       "      <td>2.92</td>\n",
       "    </tr>\n",
       "  </tbody>\n",
       "</table>\n",
       "</div>"
      ],
      "text/plain": [
       "   features  VIF Factor\n",
       "0       age        7.55\n",
       "1       sex        2.00\n",
       "2       bmi       10.37\n",
       "3  children        1.80\n",
       "4    smoker        1.26\n",
       "5    region        2.92"
      ]
     },
     "execution_count": 20,
     "metadata": {},
     "output_type": "execute_result"
    }
   ],
   "source": [
    "from statsmodels.stats.outliers_influence import variance_inflation_factor as vif\n",
    " \n",
    "vif_df = pd.DataFrame()\n",
    "vif_df[\"features\"] = X.columns\n",
    "vif_df[\"VIF Factor\"] = [vif(X.values, i) for i in range(X.shape[1])]\n",
    "vif_df.round(2)\n",
    "#VIF should be low as possible\n",
    "#less than 5 values is good in VIF Which represent no multicolinearity"
   ]
  },
  {
   "cell_type": "raw",
   "metadata": {},
   "source": [
    "As the age and bmi columns are important we will not do any thing to this columns\n",
    "Note: Once you eliminate one variable based on VIF score then other variable's VIF also change and it will decrease so           never eliminate all variables so Remove Variable with Highest value and then Run the function again.Also use domian         Knowledge Don't just depend on Vif Values"
   ]
  },
  {
   "cell_type": "markdown",
   "metadata": {},
   "source": [
    "Split the data into train and test.<br>\n",
    "Hint: Make sure you are considering the log transformed Y."
   ]
  },
  {
   "cell_type": "code",
   "execution_count": 21,
   "metadata": {},
   "outputs": [],
   "source": [
    "from sklearn.model_selection import train_test_split\n",
    "X_train, X_test, Y_train, Y_test=train_test_split(X,Y_log, test_size=0.3, random_state=10)"
   ]
  },
  {
   "cell_type": "code",
   "execution_count": 22,
   "metadata": {},
   "outputs": [
    {
     "name": "stdout",
     "output_type": "stream",
     "text": [
      "(936, 6)\n",
      "(402,)\n",
      "(936, 6)\n",
      "(402,)\n"
     ]
    }
   ],
   "source": [
    "print(X_train.shape)\n",
    "print(Y_test.shape)\n",
    "print(X_train.shape)\n",
    "print(Y_test.shape)"
   ]
  },
  {
   "cell_type": "code",
   "execution_count": null,
   "metadata": {},
   "outputs": [],
   "source": [
    "#from sklearn.preprocessing import StandardScaler, MinMaxScaler (Optional)\n",
    "\n",
    "#scaler =  MinMaxScaler()\n",
    "#scaler.fit(X_train)\n",
    "#X_train_scale = scaler.transform(X_train)\n",
    "#X_test_scale = scaler.transform(X_test)\n",
    "#print(X_train_scale,X_test_scale)"
   ]
  },
  {
   "cell_type": "markdown",
   "metadata": {},
   "source": [
    "Build a base Linear Regression model using sklearn."
   ]
  },
  {
   "cell_type": "code",
   "execution_count": 23,
   "metadata": {
    "scrolled": true
   },
   "outputs": [
    {
     "name": "stdout",
     "output_type": "stream",
     "text": [
      "7.042446402415639\n",
      "[ 0.0352433  -0.07018148  0.0111782   0.09942699  1.56899189 -0.04278656]\n"
     ]
    }
   ],
   "source": [
    "from sklearn.linear_model import LinearRegression\n",
    "#create a model object\n",
    "lm=LinearRegression()\n",
    "#train the model object\n",
    "lm.fit(X_train, Y_train)\n",
    "\n",
    "#print intercept and coefficient\n",
    "print(lm.intercept_)\n",
    "print(lm.coef_)"
   ]
  },
  {
   "cell_type": "markdown",
   "metadata": {},
   "source": [
    "Create a zipped list of the slope coefficients to understand the equation better.<br>\n",
    "Write down the equation manually and try making sense out of it."
   ]
  },
  {
   "cell_type": "code",
   "execution_count": 24,
   "metadata": {
    "scrolled": true
   },
   "outputs": [
    {
     "name": "stdout",
     "output_type": "stream",
     "text": [
      "[('age', 0.03524330025172184), ('sex', -0.07018148219835638), ('bmi', 0.011178196909999202), ('children', 0.09942698608802106), ('smoker', 1.5689918884084277), ('region', -0.042786564146527574)]\n"
     ]
    }
   ],
   "source": [
    "#pair the feature names with the coefficient\n",
    "print(list(zip(X.columns, lm.coef_)))"
   ]
  },
  {
   "cell_type": "markdown",
   "metadata": {},
   "source": [
    "Predict using the model."
   ]
  },
  {
   "cell_type": "code",
   "execution_count": 25,
   "metadata": {
    "collapsed": true
   },
   "outputs": [
    {
     "name": "stdout",
     "output_type": "stream",
     "text": [
      "[ 8.91202609  8.56894447  9.43739803  9.38706377  8.31268401  8.94047096\n",
      "  9.2415172   9.63018096  8.97448562 10.54982113  8.13392381  8.28053661\n",
      "  8.7786953   9.15631579  9.23496085  9.38292582  8.31732968  9.80740634\n",
      "  9.19175848 10.22271157 10.54182548  8.06219616  7.97098006  8.78589234\n",
      "  8.43887365  9.42945103  9.00817552  9.4410749   8.41156082 10.20315578\n",
      "  7.73485623 10.38083015  8.89817667  8.96925349  8.44345347  8.87370581\n",
      "  9.45013244  9.08679667  9.11044688  8.89974701  9.58911775  9.17403231\n",
      "  8.55726326  9.00093224  7.98094222  8.82916407  8.94263662 10.62857798\n",
      "  9.3277211   9.2600054   9.9993291   8.31379578  8.90598596  9.64115791\n",
      "  9.10502318  9.38942878  9.3185899   8.62910173  8.7102396  10.70357012\n",
      "  7.89124122 10.62483464 11.0905674   7.9620672  10.01160997  8.87003354\n",
      "  8.48277172  8.91524868  8.87161932  8.93934335  8.83825749  7.95617944\n",
      "  8.86051689  8.8991201   8.98735169  9.34095906  8.56008373  8.81795898\n",
      "  7.82741573  9.33348446  9.2753835   9.18560683  9.76346674  8.26731532\n",
      " 10.77046022  8.30707772  7.8936405   7.99118667  8.73294946  9.18454613\n",
      " 10.22846163 10.38100225  9.16890108 10.51801685  9.40852161  8.42323102\n",
      "  8.7327916   9.25246079  8.51778273  9.34567246  8.79139734  8.01345721\n",
      "  8.3226881   8.49932647  9.11359156  8.99106818 10.32674487 10.00481786\n",
      " 10.55926324  8.48928157  9.1791834   8.80401782  8.48616857  9.56110076\n",
      "  9.88074361 10.33829469  8.47591661 10.59046301  8.82834895  8.33148865\n",
      " 10.4816806   9.08050893  8.77679864  8.03636848 11.06825453  8.24277014\n",
      "  9.41757016  8.71125933  8.4921958   9.43564351  9.16818604 11.00482457\n",
      "  9.69570239 10.70072345  8.94096148 10.30052621  9.33611309  9.21467444\n",
      "  9.85465704  8.6200122   8.79465178 10.49536893  9.52025536  8.19500393\n",
      "  8.29275015  9.89583957  9.26717933  8.86645827  9.01072097  8.27977054\n",
      "  8.40529094  8.75138531  7.85334512 11.0842114   9.42677633  7.93790616\n",
      "  9.42103944  7.78051715  9.60142613 10.87401318  9.38652648  8.16576593\n",
      "  8.7466996   9.33008734  8.29765605 10.97350519  8.90458492  8.57895875\n",
      "  7.93922995  9.23579627  9.23015598  8.92263033  8.59355331  8.73345287\n",
      " 10.13561824  8.76677332  8.22252983  9.15604748  8.96850836  9.39897632\n",
      " 11.08997221  9.29778744  8.46783606  8.00184545  9.47152107  8.34485573\n",
      " 10.86795533  9.11769661 10.4877613   8.09647725  9.05044054  8.94697651\n",
      "  8.52312501  8.92981057  9.4506649   9.1703099   9.52413291  8.44676033\n",
      "  9.38524933  8.69648637  8.62128839  7.8721265   9.54658028  9.00909636\n",
      "  7.96996999 10.74871565 10.00883021  9.78219976 10.11006194  8.0918544\n",
      "  8.90952631 10.2737117   8.73916989  8.81842695 10.12884197  8.45556018\n",
      "  8.77114423  8.1511678   9.67540793  9.2909068   8.61426026  8.55693261\n",
      "  7.95717499  9.50207158  7.88624705  9.58089867  9.50326073  8.01915406\n",
      "  8.8593863   9.90173634  8.64480038  9.46904428  8.73328107  9.84426602\n",
      "  9.20921836  8.21823602  9.43865518 11.14184939  7.82364739  9.21814653\n",
      "  9.25942701  9.76861796  9.1201996  10.25386167  9.30730571  8.17420844\n",
      "  9.24518193  8.4083202   9.52305232  8.0299851   8.42256609  9.50033693\n",
      " 10.31795372  8.47571428  8.96803289  9.16597997  9.09184326  8.51918632\n",
      "  8.0433229   9.33366837  8.29561269 11.03035319  8.70669561 10.75621044\n",
      "  8.36518149  8.10272857  9.43882431  8.96784412  7.9962624   9.14075432\n",
      "  8.01345721  7.90224771  9.08411995  8.98595547  8.98390027  8.11852019\n",
      "  9.62426336  7.95131424  8.91036265 10.51665774  7.78504835  7.99347592\n",
      "  9.40424862  9.1121509  10.53919755  8.04268714  8.50407693  8.86265632\n",
      " 10.20331863  8.08925345  9.01169383  8.46476004  8.66755231  8.45051455\n",
      "  9.45704732  8.39960861 10.09323568  9.13340935  8.65951072  9.6505425\n",
      " 10.82264129  8.67571077  7.85184009 10.04256875  9.17287378  9.21286\n",
      "  9.85151467  8.95560197  9.40125323  9.25377115  8.74560341  9.13420862\n",
      "  8.81482399  7.97814191  9.23176164 11.04344323 11.12127976  9.22353789\n",
      "  9.08204514  9.42970052  8.79861061  8.56185035  9.37260441  9.18455622\n",
      "  8.1271027   8.99270512  8.21778863 11.12474877  9.18608527  7.90593652\n",
      " 10.51699203  9.49781377  9.24569692  9.73943871  8.40003048  9.16688068\n",
      "  9.11920834  8.14915034 10.03063279 10.77189592  9.5595154   8.03973781\n",
      "  8.88372709  9.35513159  8.82153736  9.54849132  9.00441805  8.65772691\n",
      "  9.06922702 10.27348854 10.26045172  8.78050048  7.79162388  8.00283792\n",
      "  9.67942819  8.63603046  9.75703805  8.8916909   8.04743893  8.31454588\n",
      "  9.30688921  9.05697869  8.24474247  8.48744305  8.59257521  8.38333925\n",
      "  9.4229279   9.54409124  8.09803439  8.26622247  9.03553511  9.02028841\n",
      "  9.58619353  8.71437083  8.41135419  9.29323031  8.59173483  8.64373227\n",
      "  9.12204496  8.30654004  8.57677298  9.00109078 10.18865194  8.75907151\n",
      "  8.55336567  9.50489406  8.0487274   9.56264384  9.90602288  8.00059719\n",
      "  9.38804428  9.11486872  8.92315726  8.83003037  9.07171404  9.54468468\n",
      "  9.08578176 10.90318507  8.3854679  10.34968005  7.9641271   9.05129098]\n"
     ]
    }
   ],
   "source": [
    "Y_pred=lm.predict(X_test)\n",
    "print(Y_pred)"
   ]
  },
  {
   "cell_type": "markdown",
   "metadata": {},
   "source": [
    "Evaluate the model."
   ]
  },
  {
   "cell_type": "code",
   "execution_count": 26,
   "metadata": {},
   "outputs": [
    {
     "data": {
      "text/html": [
       "<div>\n",
       "<style scoped>\n",
       "    .dataframe tbody tr th:only-of-type {\n",
       "        vertical-align: middle;\n",
       "    }\n",
       "\n",
       "    .dataframe tbody tr th {\n",
       "        vertical-align: top;\n",
       "    }\n",
       "\n",
       "    .dataframe thead th {\n",
       "        text-align: right;\n",
       "    }\n",
       "</style>\n",
       "<table border=\"1\" class=\"dataframe\">\n",
       "  <thead>\n",
       "    <tr style=\"text-align: right;\">\n",
       "      <th></th>\n",
       "      <th>age</th>\n",
       "      <th>sex</th>\n",
       "      <th>bmi</th>\n",
       "      <th>children</th>\n",
       "      <th>smoker</th>\n",
       "      <th>region</th>\n",
       "      <th>Actual Charges</th>\n",
       "      <th>Predicted Charges</th>\n",
       "    </tr>\n",
       "  </thead>\n",
       "  <tbody>\n",
       "    <tr>\n",
       "      <th>0</th>\n",
       "      <td>37</td>\n",
       "      <td>0</td>\n",
       "      <td>27.740</td>\n",
       "      <td>3</td>\n",
       "      <td>0</td>\n",
       "      <td>1</td>\n",
       "      <td>8.893093</td>\n",
       "      <td>8.912026</td>\n",
       "    </tr>\n",
       "    <tr>\n",
       "      <th>1</th>\n",
       "      <td>36</td>\n",
       "      <td>0</td>\n",
       "      <td>26.885</td>\n",
       "      <td>0</td>\n",
       "      <td>0</td>\n",
       "      <td>1</td>\n",
       "      <td>8.569372</td>\n",
       "      <td>8.568944</td>\n",
       "    </tr>\n",
       "    <tr>\n",
       "      <th>2</th>\n",
       "      <td>59</td>\n",
       "      <td>1</td>\n",
       "      <td>37.100</td>\n",
       "      <td>1</td>\n",
       "      <td>0</td>\n",
       "      <td>3</td>\n",
       "      <td>9.421182</td>\n",
       "      <td>9.437398</td>\n",
       "    </tr>\n",
       "    <tr>\n",
       "      <th>3</th>\n",
       "      <td>61</td>\n",
       "      <td>0</td>\n",
       "      <td>25.080</td>\n",
       "      <td>0</td>\n",
       "      <td>0</td>\n",
       "      <td>2</td>\n",
       "      <td>10.106963</td>\n",
       "      <td>9.387064</td>\n",
       "    </tr>\n",
       "    <tr>\n",
       "      <th>4</th>\n",
       "      <td>29</td>\n",
       "      <td>0</td>\n",
       "      <td>26.030</td>\n",
       "      <td>0</td>\n",
       "      <td>0</td>\n",
       "      <td>1</td>\n",
       "      <td>8.225895</td>\n",
       "      <td>8.312684</td>\n",
       "    </tr>\n",
       "    <tr>\n",
       "      <th>...</th>\n",
       "      <td>...</td>\n",
       "      <td>...</td>\n",
       "      <td>...</td>\n",
       "      <td>...</td>\n",
       "      <td>...</td>\n",
       "      <td>...</td>\n",
       "      <td>...</td>\n",
       "      <td>...</td>\n",
       "    </tr>\n",
       "    <tr>\n",
       "      <th>397</th>\n",
       "      <td>49</td>\n",
       "      <td>0</td>\n",
       "      <td>23.845</td>\n",
       "      <td>3</td>\n",
       "      <td>1</td>\n",
       "      <td>0</td>\n",
       "      <td>10.090254</td>\n",
       "      <td>10.903185</td>\n",
       "    </tr>\n",
       "    <tr>\n",
       "      <th>398</th>\n",
       "      <td>25</td>\n",
       "      <td>0</td>\n",
       "      <td>41.325</td>\n",
       "      <td>0</td>\n",
       "      <td>0</td>\n",
       "      <td>0</td>\n",
       "      <td>9.791377</td>\n",
       "      <td>8.385468</td>\n",
       "    </tr>\n",
       "    <tr>\n",
       "      <th>399</th>\n",
       "      <td>39</td>\n",
       "      <td>1</td>\n",
       "      <td>29.925</td>\n",
       "      <td>1</td>\n",
       "      <td>1</td>\n",
       "      <td>0</td>\n",
       "      <td>10.019582</td>\n",
       "      <td>10.349680</td>\n",
       "    </tr>\n",
       "    <tr>\n",
       "      <th>400</th>\n",
       "      <td>20</td>\n",
       "      <td>1</td>\n",
       "      <td>33.330</td>\n",
       "      <td>0</td>\n",
       "      <td>0</td>\n",
       "      <td>2</td>\n",
       "      <td>7.238158</td>\n",
       "      <td>7.964127</td>\n",
       "    </tr>\n",
       "    <tr>\n",
       "      <th>401</th>\n",
       "      <td>46</td>\n",
       "      <td>0</td>\n",
       "      <td>33.440</td>\n",
       "      <td>1</td>\n",
       "      <td>0</td>\n",
       "      <td>2</td>\n",
       "      <td>9.016827</td>\n",
       "      <td>9.051291</td>\n",
       "    </tr>\n",
       "  </tbody>\n",
       "</table>\n",
       "<p>402 rows × 8 columns</p>\n",
       "</div>"
      ],
      "text/plain": [
       "     age  sex     bmi  children  smoker  region  Actual Charges  \\\n",
       "0     37    0  27.740         3       0       1        8.893093   \n",
       "1     36    0  26.885         0       0       1        8.569372   \n",
       "2     59    1  37.100         1       0       3        9.421182   \n",
       "3     61    0  25.080         0       0       2       10.106963   \n",
       "4     29    0  26.030         0       0       1        8.225895   \n",
       "..   ...  ...     ...       ...     ...     ...             ...   \n",
       "397   49    0  23.845         3       1       0       10.090254   \n",
       "398   25    0  41.325         0       0       0        9.791377   \n",
       "399   39    1  29.925         1       1       0       10.019582   \n",
       "400   20    1  33.330         0       0       2        7.238158   \n",
       "401   46    0  33.440         1       0       2        9.016827   \n",
       "\n",
       "     Predicted Charges  \n",
       "0             8.912026  \n",
       "1             8.568944  \n",
       "2             9.437398  \n",
       "3             9.387064  \n",
       "4             8.312684  \n",
       "..                 ...  \n",
       "397          10.903185  \n",
       "398           8.385468  \n",
       "399          10.349680  \n",
       "400           7.964127  \n",
       "401           9.051291  \n",
       "\n",
       "[402 rows x 8 columns]"
      ]
     },
     "execution_count": 26,
     "metadata": {},
     "output_type": "execute_result"
    }
   ],
   "source": [
    "new_data=pd.DataFrame()\n",
    "new_data=X_test.copy()\n",
    "\n",
    "new_data[\"Actual Charges\"]=Y_test\n",
    "new_data[\"Predicted Charges\"]=Y_pred\n",
    "new_data=new_data.reset_index().drop(\"index\", axis=1)\n",
    "new_data\n"
   ]
  },
  {
   "cell_type": "code",
   "execution_count": 27,
   "metadata": {},
   "outputs": [
    {
     "name": "stdout",
     "output_type": "stream",
     "text": [
      "R-squared: 0.7374526728907583\n",
      "RMSE: 0.4535666465554725\n",
      "Adj R-square: 0.7362691387339924\n"
     ]
    }
   ],
   "source": [
    "from sklearn.metrics import r2_score, mean_squared_error\n",
    "\n",
    "r2=r2_score(Y_test,Y_pred)\n",
    "print(\"R-squared:\",r2)\n",
    " \n",
    "rmse=np.sqrt(mean_squared_error(Y_test,Y_pred))\n",
    "print(\"RMSE:\",rmse)\n",
    " \n",
    "adjusted_r_squared = 1 - (1-r2)*(len(Y)-1)/(len(Y)-X.shape[1]-1)\n",
    "print(\"Adj R-square:\",adjusted_r_squared)"
   ]
  },
  {
   "cell_type": "code",
   "execution_count": 28,
   "metadata": {},
   "outputs": [
    {
     "data": {
      "text/html": [
       "<div>\n",
       "<style scoped>\n",
       "    .dataframe tbody tr th:only-of-type {\n",
       "        vertical-align: middle;\n",
       "    }\n",
       "\n",
       "    .dataframe tbody tr th {\n",
       "        vertical-align: top;\n",
       "    }\n",
       "\n",
       "    .dataframe thead th {\n",
       "        text-align: right;\n",
       "    }\n",
       "</style>\n",
       "<table border=\"1\" class=\"dataframe\">\n",
       "  <thead>\n",
       "    <tr style=\"text-align: right;\">\n",
       "      <th></th>\n",
       "      <th>age</th>\n",
       "      <th>sex</th>\n",
       "      <th>bmi</th>\n",
       "      <th>children</th>\n",
       "      <th>smoker</th>\n",
       "      <th>region</th>\n",
       "      <th>Actual Charges</th>\n",
       "      <th>Predicted Charges</th>\n",
       "      <th>Deviation</th>\n",
       "    </tr>\n",
       "  </thead>\n",
       "  <tbody>\n",
       "    <tr>\n",
       "      <th>0</th>\n",
       "      <td>37</td>\n",
       "      <td>0</td>\n",
       "      <td>27.740</td>\n",
       "      <td>3</td>\n",
       "      <td>0</td>\n",
       "      <td>1</td>\n",
       "      <td>8.893093</td>\n",
       "      <td>8.912026</td>\n",
       "      <td>-0.018933</td>\n",
       "    </tr>\n",
       "    <tr>\n",
       "      <th>1</th>\n",
       "      <td>36</td>\n",
       "      <td>0</td>\n",
       "      <td>26.885</td>\n",
       "      <td>0</td>\n",
       "      <td>0</td>\n",
       "      <td>1</td>\n",
       "      <td>8.569372</td>\n",
       "      <td>8.568944</td>\n",
       "      <td>0.000427</td>\n",
       "    </tr>\n",
       "    <tr>\n",
       "      <th>2</th>\n",
       "      <td>59</td>\n",
       "      <td>1</td>\n",
       "      <td>37.100</td>\n",
       "      <td>1</td>\n",
       "      <td>0</td>\n",
       "      <td>3</td>\n",
       "      <td>9.421182</td>\n",
       "      <td>9.437398</td>\n",
       "      <td>-0.016216</td>\n",
       "    </tr>\n",
       "    <tr>\n",
       "      <th>3</th>\n",
       "      <td>61</td>\n",
       "      <td>0</td>\n",
       "      <td>25.080</td>\n",
       "      <td>0</td>\n",
       "      <td>0</td>\n",
       "      <td>2</td>\n",
       "      <td>10.106963</td>\n",
       "      <td>9.387064</td>\n",
       "      <td>0.719899</td>\n",
       "    </tr>\n",
       "    <tr>\n",
       "      <th>4</th>\n",
       "      <td>29</td>\n",
       "      <td>0</td>\n",
       "      <td>26.030</td>\n",
       "      <td>0</td>\n",
       "      <td>0</td>\n",
       "      <td>1</td>\n",
       "      <td>8.225895</td>\n",
       "      <td>8.312684</td>\n",
       "      <td>-0.086789</td>\n",
       "    </tr>\n",
       "  </tbody>\n",
       "</table>\n",
       "</div>"
      ],
      "text/plain": [
       "   age  sex     bmi  children  smoker  region  Actual Charges  \\\n",
       "0   37    0  27.740         3       0       1        8.893093   \n",
       "1   36    0  26.885         0       0       1        8.569372   \n",
       "2   59    1  37.100         1       0       3        9.421182   \n",
       "3   61    0  25.080         0       0       2       10.106963   \n",
       "4   29    0  26.030         0       0       1        8.225895   \n",
       "\n",
       "   Predicted Charges  Deviation  \n",
       "0           8.912026  -0.018933  \n",
       "1           8.568944   0.000427  \n",
       "2           9.437398  -0.016216  \n",
       "3           9.387064   0.719899  \n",
       "4           8.312684  -0.086789  "
      ]
     },
     "execution_count": 28,
     "metadata": {},
     "output_type": "execute_result"
    }
   ],
   "source": [
    "new_data[\"Deviation\"]=new_data[\"Actual Charges\"]-new_data[\"Predicted Charges\"]\n",
    "new_data.to_excel(\"Charges Prediction.xlsx\",header=True,index=True)\n",
    "new_data.head()"
   ]
  },
  {
   "cell_type": "markdown",
   "metadata": {},
   "source": [
    "Perform Ridge and Lasso regression. Evaluate them as well.<br>\n",
    "Hint:Look at the fun in the Lasso Regression, ignore such model."
   ]
  },
  {
   "cell_type": "code",
   "execution_count": 29,
   "metadata": {},
   "outputs": [
    {
     "name": "stdout",
     "output_type": "stream",
     "text": [
      "7.044356761111714\n",
      "[ 0.03524083 -0.06922454  0.01118039  0.09925573  1.55870554 -0.04282443]\n"
     ]
    }
   ],
   "source": [
    "from sklearn.linear_model import Ridge\n",
    "rid=Ridge()\n",
    "rid.fit(X_train, Y_train)\n",
    "\n",
    "\"\"\"\n",
    "previous values:\n",
    "7.042446402415638\n",
    "[ 0.0352433  -0.07018148  0.0111782   0.09942699  1.56899189 -0.04278656]\n",
    "\"\"\"\n",
    "#print intercept and coefficient\n",
    "print(rid.intercept_)\n",
    "print(rid.coef_)"
   ]
  },
  {
   "cell_type": "code",
   "execution_count": 30,
   "metadata": {},
   "outputs": [
    {
     "data": {
      "text/plain": [
       "array([ 8.91335407,  8.57078681,  9.43991581,  9.38880244,  8.31454179,\n",
       "        8.94217795,  9.24339444,  9.6215673 ,  8.97592143, 10.54104018,\n",
       "        8.13641083,  8.28244572,  8.78151326,  9.15768361,  9.2366599 ,\n",
       "        9.38470254,  8.31900567,  9.80957763,  9.1934763 , 10.21509362,\n",
       "       10.53419502,  8.06409867,  7.97290355,  8.78759718,  8.44035458,\n",
       "        9.43124625,  9.01055915,  9.44234709,  8.41302568, 10.1954174 ,\n",
       "        7.73760631, 10.37293585,  8.89996962,  8.97171794,  8.44608736,\n",
       "        8.8752063 ,  9.45287428,  9.08950214,  9.1122935 ,  8.90210938,\n",
       "        9.59087726,  9.17645112,  8.55910331,  9.00281368,  7.98377939,\n",
       "        8.8307809 ,  8.94525845, 10.62061119,  9.33049657,  9.26179556,\n",
       "        9.99081862,  8.31563368,  8.90853092,  9.64265201,  9.10775232,\n",
       "        9.39213862,  9.32026781,  8.63165809,  8.71278371, 10.6945696 ,\n",
       "        7.89411978, 10.61689435, 11.0820568 ,  7.96486315, 10.0037867 ,\n",
       "        8.87179149,  8.48525206,  8.91770121,  8.87319623,  8.94090539,\n",
       "        8.84011643,  7.95882102,  8.86217873,  8.90157885,  8.988962  ,\n",
       "        9.34247876,  8.56189486,  8.81973488,  7.83024292,  9.33480123,\n",
       "        9.27764082,  9.1881798 ,  9.75451649,  8.26896275, 10.76179934,\n",
       "        8.30874232,  7.89646056,  7.99300691,  8.73464258,  9.18600568,\n",
       "       10.22089081, 10.37346266,  9.17119516, 10.50919751,  9.41118694,\n",
       "        8.42580332,  8.73540849,  9.25404667,  8.52034542,  9.3474124 ,\n",
       "        8.79401633,  8.01538902,  8.32425213,  8.5007049 ,  9.11523734,\n",
       "        8.99359229, 10.31903205,  9.99689768, 10.54986099,  8.49116952,\n",
       "        9.18181407,  8.80548589,  8.48783075,  9.55270317,  9.87230414,\n",
       "       10.33013521,  8.4775674 , 10.58176417,  8.83066071,  8.33400634,\n",
       "       10.47274112,  9.08328152,  8.7792428 ,  8.03824582, 11.06068078,\n",
       "        8.2447    ,  9.41937244,  8.71259352,  8.49492545,  9.4382494 ,\n",
       "        9.17094767, 10.99627707,  9.68729365, 10.69262606,  8.94233266,\n",
       "       10.29194342,  9.33837293,  9.21633065,  9.84699242,  8.62110829,\n",
       "        8.79710881, 10.48755738,  9.52262812,  8.19758778,  8.29524015,\n",
       "        9.88797217,  9.26892131,  8.86915808,  9.01343029,  8.28114346,\n",
       "        8.4068122 ,  8.75273943,  7.85611842, 11.07670912,  9.42903518,\n",
       "        7.9407349 ,  9.42276467,  7.78331504,  9.60272975, 10.86651661,\n",
       "        9.38929472,  8.16859242,  8.74812695,  9.33258409,  8.29932819,\n",
       "       10.96591153,  8.90622591,  8.5808111 ,  7.94108825,  9.23858187,\n",
       "        9.23279664,  8.92500657,  8.59516015,  8.73592472, 10.12775227,\n",
       "        8.76939687,  8.22440881,  9.15758722,  8.97013374,  9.40076424,\n",
       "       11.08239333,  9.30056643,  8.47047607,  8.00468672,  9.46401766,\n",
       "        8.34745019, 10.85942791,  9.12036123, 10.47914955,  8.09925263,\n",
       "        9.05293876,  8.94901357,  8.52561326,  8.93131401,  9.45172679,\n",
       "        9.17307194,  9.51571869,  8.44826291,  9.38701713,  8.69910553,\n",
       "        8.62317048,  7.87500132,  9.54797678,  9.01138458,  7.97183431,\n",
       "       10.74022115, 10.00080493,  9.78352139, 10.10218963,  8.09367561,\n",
       "        8.91222518, 10.26573969,  8.74160533,  8.82002157, 10.12042432,\n",
       "        8.45730348,  8.77295919,  8.15277236,  9.67673677,  9.29366434,\n",
       "        8.61648852,  8.55862876,  7.95909577,  9.50428756,  7.88903752,\n",
       "        9.57332378,  9.50472647,  8.02102802,  8.86121052,  9.89295702,\n",
       "        8.64754251,  9.46056968,  8.73533253,  9.83645552,  9.21098785,\n",
       "        8.2201222 ,  9.44046293, 11.13337833,  7.82548304,  9.22089785,\n",
       "        9.26204527,  9.7611567 ,  9.1229612 , 10.24597063,  9.30984624,\n",
       "        8.17686595,  9.2479104 ,  8.41001403,  9.52581917,  8.03189201,\n",
       "        8.42522403,  9.50210853, 10.30899957,  8.47747938,  8.96929412,\n",
       "        9.16833824,  9.09415038,  8.52078796,  8.04612674,  9.33530903,\n",
       "        8.29800676, 11.02138187,  8.70945926, 10.74828652,  8.36707771,\n",
       "        8.10522824,  9.44164032,  8.97026809,  7.99912268,  9.14338683,\n",
       "        8.01538902,  7.90506946,  9.086845  ,  8.98779511,  8.98557692,\n",
       "        8.12134814,  9.61674298,  7.95405984,  8.91310055, 10.50912598,\n",
       "        7.78790609,  7.99631689,  9.4068765 ,  9.11461521, 10.53133697,\n",
       "        8.04439507,  8.5059548 ,  8.86532815, 10.19444698,  8.09118136,\n",
       "        9.01304269,  8.46743831,  8.66985936,  8.45300733,  9.4496389 ,\n",
       "        8.40148477, 10.08516932,  9.13582825,  8.66115059,  9.65174987,\n",
       "       10.81515342,  8.678354  ,  7.85467207, 10.03361825,  9.17538662,\n",
       "        9.21454533,  9.85279226,  8.95806241,  9.40238317,  9.25523489,\n",
       "        8.74806021,  9.13604113,  8.81644739,  7.98089277,  9.23417167,\n",
       "       11.03494216, 11.11234502,  9.2258994 ,  9.08415826,  9.43146631,\n",
       "        8.80044034,  8.56361357,  9.37380421,  9.18644106,  8.12871192,\n",
       "        8.99441297,  8.22065614, 11.11623549,  9.18885175,  7.90875899,\n",
       "       10.50923073,  9.49960363,  9.24767147,  9.73063562,  8.4017334 ,\n",
       "        9.16955494,  9.12176829,  8.1506683 , 10.02276366, 10.76402466,\n",
       "        9.56135622,  8.0425597 ,  8.88512592,  9.35792182,  8.8239608 ,\n",
       "        9.54976446,  9.00696354,  8.65922259,  9.07197863, 10.26581219,\n",
       "       10.25241009,  8.78180134,  7.79341438,  8.00476765,  9.68197598,\n",
       "        8.63764562,  9.74919974,  8.89322573,  8.0493774 ,  8.31609759,\n",
       "        9.30925634,  9.05846954,  8.24711809,  8.49021063,  8.59425021,\n",
       "        8.38492364,  9.41540558,  9.5468716 ,  8.09984743,  8.26810867,\n",
       "        9.03772398,  9.02307868,  9.57868445,  8.71705959,  8.41399251,\n",
       "        9.29597892,  8.59393144,  8.64517696,  9.12453845,  8.3088018 ,\n",
       "        8.57952055,  9.00276142, 10.17970193,  8.76186553,  8.5550035 ,\n",
       "        9.50669604,  8.05035879,  9.56395996,  9.89832945,  8.00223791,\n",
       "        9.39059125,  9.11751493,  8.92554299,  8.83171572,  9.07312066,\n",
       "        9.54593698,  9.08743147, 10.89422634,  8.38740696, 10.34205884,\n",
       "        7.96694222,  9.05291382])"
      ]
     },
     "execution_count": 30,
     "metadata": {},
     "output_type": "execute_result"
    }
   ],
   "source": [
    "Y_pred=rid.predict(X_test)\n",
    "Y_pred"
   ]
  },
  {
   "cell_type": "code",
   "execution_count": 31,
   "metadata": {},
   "outputs": [
    {
     "name": "stdout",
     "output_type": "stream",
     "text": [
      "R-squared: 0.7376888175484464\n",
      "RMSE: 0.45336262346262673\n",
      "Adj R-square: 0.7365063479055394\n"
     ]
    },
    {
     "data": {
      "text/plain": [
       "'\\nprevious value:\\nR-squared: 0.7374526728907582\\nRMSE: 0.4535666465554726\\nAdj R-square: 0.7362691387339924\\n'"
      ]
     },
     "execution_count": 31,
     "metadata": {},
     "output_type": "execute_result"
    }
   ],
   "source": [
    "from sklearn.metrics import r2_score,mean_squared_error\n",
    "import numpy as np\n",
    " \n",
    "r2=r2_score(Y_test,Y_pred)\n",
    "print(\"R-squared:\",r2)\n",
    " \n",
    "rmse=np.sqrt(mean_squared_error(Y_test,Y_pred))\n",
    "print(\"RMSE:\",rmse)\n",
    " \n",
    "adjusted_r_squared = 1 - (1-r2)*(len(Y)-1)/(len(Y)-X.shape[1]-1)\n",
    "print(\"Adj R-square:\",adjusted_r_squared)\n",
    "\n",
    "\"\"\"\n",
    "previous value:\n",
    "R-squared: 0.7374526728907582\n",
    "RMSE: 0.4535666465554726\n",
    "Adj R-square: 0.7362691387339924\n",
    "\"\"\""
   ]
  },
  {
   "cell_type": "code",
   "execution_count": 32,
   "metadata": {
    "scrolled": true
   },
   "outputs": [
    {
     "name": "stdout",
     "output_type": "stream",
     "text": [
      "7.8888757936390075\n",
      "[ 0.03086241  0.          0.          0.          0.         -0.        ]\n"
     ]
    }
   ],
   "source": [
    "from sklearn.linear_model import Lasso\n",
    "las=Lasso()\n",
    "las.fit(X_train, Y_train)\n",
    "\n",
    "\"\"\"\n",
    "Ridge value:\n",
    "7.044356761111712\n",
    "[ 0.03524083 -0.06922454  0.01118039  0.09925573  1.55870554 -0.04282443]\n",
    "\"\"\"\n",
    "#print intercept and coefficient\n",
    "print(las.intercept_)\n",
    "print(las.coef_)"
   ]
  },
  {
   "cell_type": "code",
   "execution_count": 33,
   "metadata": {},
   "outputs": [
    {
     "name": "stdout",
     "output_type": "stream",
     "text": [
      "R-squared: 0.23329039397987605\n",
      "RMSE: 0.775091121979927\n",
      "Adj R-square: 0.229834152329898\n"
     ]
    },
    {
     "data": {
      "text/plain": [
       "'\\nridge value:\\nR-squared: 0.7376888175484464\\nRMSE: 0.45336262346262673\\nAdj R-square: 0.7365063479055394\\n'"
      ]
     },
     "execution_count": 33,
     "metadata": {},
     "output_type": "execute_result"
    }
   ],
   "source": [
    "Y_pred=las.predict(X_test)\n",
    "from sklearn.metrics import r2_score,mean_squared_error\n",
    "import numpy as np\n",
    " \n",
    "r2=r2_score(Y_test,Y_pred)\n",
    "print(\"R-squared:\",r2)\n",
    " \n",
    "rmse=np.sqrt(mean_squared_error(Y_test,Y_pred))\n",
    "print(\"RMSE:\",rmse)\n",
    " \n",
    "adjusted_r_squared = 1 - (1-r2)*(len(Y)-1)/(len(Y)-X.shape[1]-1)\n",
    "print(\"Adj R-square:\",adjusted_r_squared)\n",
    "\n",
    "\"\"\"\n",
    "ridge value:\n",
    "R-squared: 0.7376888175484464\n",
    "RMSE: 0.45336262346262673\n",
    "Adj R-square: 0.7365063479055394\n",
    "\"\"\""
   ]
  },
  {
   "cell_type": "raw",
   "metadata": {},
   "source": [
    "Ridge technique give best result as compare to lasso  "
   ]
  },
  {
   "cell_type": "code",
   "execution_count": 34,
   "metadata": {},
   "outputs": [],
   "source": [
    "Y_pred=rid.predict(X_test)"
   ]
  },
  {
   "cell_type": "code",
   "execution_count": 35,
   "metadata": {},
   "outputs": [
    {
     "name": "stdout",
     "output_type": "stream",
     "text": [
      "R-squared: 0.7376888175484464\n",
      "RMSE: 0.45336262346262673\n",
      "Adj R-square: 0.7365063479055394\n"
     ]
    },
    {
     "data": {
      "text/plain": [
       "'\\nprevious value:\\nR-squared: 0.23329039397987605\\nRMSE: 0.7750911219799271\\nAdj R-square: 0.229834152329898\\n'"
      ]
     },
     "execution_count": 35,
     "metadata": {},
     "output_type": "execute_result"
    }
   ],
   "source": [
    "from sklearn.metrics import r2_score,mean_squared_error\n",
    "import numpy as np\n",
    " \n",
    "r2=r2_score(Y_test,Y_pred)\n",
    "print(\"R-squared:\",r2)\n",
    " \n",
    "rmse=np.sqrt(mean_squared_error(Y_test,Y_pred))\n",
    "print(\"RMSE:\",rmse)\n",
    " \n",
    "adjusted_r_squared = 1 - (1-r2)*(len(Y)-1)/(len(Y)-X.shape[1]-1)\n",
    "print(\"Adj R-square:\",adjusted_r_squared)\n",
    "\n",
    "\"\"\"\n",
    "previous value:\n",
    "R-squared: 0.23329039397987605\n",
    "RMSE: 0.7750911219799271\n",
    "Adj R-square: 0.229834152329898\n",
    "\"\"\""
   ]
  },
  {
   "cell_type": "markdown",
   "metadata": {},
   "source": [
    "Create a sample dataframe named \"new_df\" to hold just the training data for the statsmodels model."
   ]
  },
  {
   "cell_type": "code",
   "execution_count": 36,
   "metadata": {},
   "outputs": [
    {
     "data": {
      "text/plain": [
       "(936, 7)"
      ]
     },
     "execution_count": 36,
     "metadata": {},
     "output_type": "execute_result"
    }
   ],
   "source": [
    "#creating new dataFrame and storing X_train & Y_train data into it.\n",
    "\n",
    "new_df=pd.DataFrame()\n",
    "new_df=X_train.copy()\n",
    "\n",
    "new_df[\"Charges\"]=Y_train.copy()\n",
    "new_df.shape"
   ]
  },
  {
   "cell_type": "markdown",
   "metadata": {},
   "source": [
    "Build OLS model using statsmodels library. Check the summary to evaluate.<br>\n",
    "Hint: No high p-values. <br>\n",
    "Check for the Assumption 5- No autocorrelation \n",
    "correlation is the relation betweeen the varilabes autocorelation is the realtion is between the observation, so whenever you have such kind of data where your observation are interdependent on each other, then linear regression algorithym is not suitable. for eg. Time Series data like stock prediction\n",
    "\n",
    "- output range -> 0 to 4\n",
    "- close to 2, no autocorrelation\n",
    "- close to 4, -ve autocorrelation\n",
    "- close to 0, +ve autocorrelation \n",
    "\n",
    "Note: If autocorrelation is Present then Perfom Time Series or Other Algorithms"
   ]
  },
  {
   "cell_type": "code",
   "execution_count": 37,
   "metadata": {},
   "outputs": [
    {
     "data": {
      "text/plain": [
       "Index(['age', 'sex', 'bmi', 'children', 'smoker', 'region', 'charges'], dtype='object')"
      ]
     },
     "execution_count": 37,
     "metadata": {},
     "output_type": "execute_result"
    }
   ],
   "source": [
    "data.columns"
   ]
  },
  {
   "cell_type": "code",
   "execution_count": 38,
   "metadata": {},
   "outputs": [
    {
     "name": "stdout",
     "output_type": "stream",
     "text": [
      "Intercept    7.042446\n",
      "age          0.035243\n",
      "sex         -0.070181\n",
      "bmi          0.011178\n",
      "children     0.099427\n",
      "smoker       1.568992\n",
      "region      -0.042787\n",
      "dtype: float64\n",
      "                            OLS Regression Results                            \n",
      "==============================================================================\n",
      "Dep. Variable:                Charges   R-squared:                       0.778\n",
      "Model:                            OLS   Adj. R-squared:                  0.777\n",
      "Method:                 Least Squares   F-statistic:                     542.9\n",
      "Date:                Tue, 19 Dec 2023   Prob (F-statistic):          1.32e-299\n",
      "Time:                        19:10:05   Log-Likelihood:                -559.06\n",
      "No. Observations:                 936   AIC:                             1132.\n",
      "Df Residuals:                     929   BIC:                             1166.\n",
      "Df Model:                           6                                         \n",
      "Covariance Type:            nonrobust                                         \n",
      "==============================================================================\n",
      "                 coef    std err          t      P>|t|      [0.025      0.975]\n",
      "------------------------------------------------------------------------------\n",
      "Intercept      7.0424      0.081     87.001      0.000       6.884       7.201\n",
      "age            0.0352      0.001     34.190      0.000       0.033       0.037\n",
      "sex           -0.0702      0.029     -2.410      0.016      -0.127      -0.013\n",
      "bmi            0.0112      0.002      4.706      0.000       0.007       0.016\n",
      "children       0.0994      0.012      8.276      0.000       0.076       0.123\n",
      "smoker         1.5690      0.036     43.830      0.000       1.499       1.639\n",
      "region        -0.0428      0.013     -3.244      0.001      -0.069      -0.017\n",
      "==============================================================================\n",
      "Omnibus:                      351.038   Durbin-Watson:                   2.051\n",
      "Prob(Omnibus):                  0.000   Jarque-Bera (JB):             1362.819\n",
      "Skew:                           1.770   Prob(JB):                    1.17e-296\n",
      "Kurtosis:                       7.734   Cond. No.                         290.\n",
      "==============================================================================\n",
      "\n",
      "Notes:\n",
      "[1] Standard Errors assume that the covariance matrix of the errors is correctly specified.\n"
     ]
    },
    {
     "data": {
      "text/plain": [
       "'\\nprevious values:\\n7.044356761111712\\n[ 0.03524083 -0.06922454  0.01118039  0.09925573  1.55870554 -0.04282443]\\n'"
      ]
     },
     "execution_count": 38,
     "metadata": {},
     "output_type": "execute_result"
    }
   ],
   "source": [
    "import statsmodels.formula.api as sm\n",
    "\n",
    "#create a fitted model with all features\n",
    "lm_model = sm.ols(formula='Charges ~ age + sex + bmi + children + smoker + region',\n",
    "                 data=new_df).fit()\n",
    "#print the coefficients\n",
    "print(lm_model.params)\n",
    "print(lm_model.summary())\n",
    "\n",
    "\"\"\"\n",
    "previous values:\n",
    "7.044356761111712\n",
    "[ 0.03524083 -0.06922454  0.01118039  0.09925573  1.55870554 -0.04282443]\n",
    "\"\"\"\n",
    "\n",
    "                "
   ]
  },
  {
   "cell_type": "raw",
   "metadata": {},
   "source": [
    "Hypothesis \n",
    "\n",
    "Null H0 : there is no significant relationship between x and Y variable \n",
    "    \n",
    "Alternate H1: there is significant relationship between x and Y variable \n",
    "    \n",
    "p < 0.05\n",
    "\n",
    "if p-value is low then null must go\n",
    "if p-value is high then null must fly\n",
    "\n",
    "\n",
    "If the p-value associated with the test is less than a chosen significance level (commonly 0.05),\n",
    "you reject the null hypothesis in favor of the alternative hypothesis."
   ]
  },
  {
   "cell_type": "markdown",
   "metadata": {},
   "source": [
    "Predict using the model. Evaluate the model."
   ]
  },
  {
   "cell_type": "code",
   "execution_count": 39,
   "metadata": {
    "scrolled": true
   },
   "outputs": [],
   "source": [
    "Y_pred_new=lm_model.predict(X_test)"
   ]
  },
  {
   "cell_type": "code",
   "execution_count": 40,
   "metadata": {},
   "outputs": [
    {
     "name": "stdout",
     "output_type": "stream",
     "text": [
      "0.7374526728907579\n",
      "0.4535666465554729\n",
      "0.7362691387339919\n"
     ]
    },
    {
     "data": {
      "text/plain": [
       "'\\nR-squared: 0.7376888175484464\\nRMSE: 0.45336262346262673\\nAdj R-square: 0.7365063479055394\\n\\n'"
      ]
     },
     "execution_count": 40,
     "metadata": {},
     "output_type": "execute_result"
    }
   ],
   "source": [
    "from sklearn.metrics import r2_score,mean_squared_error\n",
    "import numpy as np\n",
    "\n",
    "r2=r2_score(Y_test,Y_pred_new)\n",
    "print(r2)\n",
    "\n",
    "rmse=np.sqrt(mean_squared_error(Y_test,Y_pred_new))\n",
    "print(rmse)\n",
    "\n",
    "adjusted_r_squared =1-(1-r2)*(len(Y)-1)/(len(Y)-X.shape[1]-1)\n",
    "print(adjusted_r_squared)\n",
    "\n",
    "\"\"\"\n",
    "R-squared: 0.7376888175484464\n",
    "RMSE: 0.45336262346262673\n",
    "Adj R-square: 0.7365063479055394\n",
    "\n",
    "\"\"\""
   ]
  },
  {
   "cell_type": "markdown",
   "metadata": {},
   "source": [
    "Check for Assumption 6-Errors should be random.<br>\n",
    "Hint: Diagnostic plot"
   ]
  },
  {
   "cell_type": "code",
   "execution_count": 41,
   "metadata": {},
   "outputs": [
    {
     "data": {
      "image/png": "[encoded data removed]",
      "text/plain": [
       "<Figure size 432x288 with 1 Axes>"
      ]
     },
     "metadata": {
      "needs_background": "light"
     },
     "output_type": "display_data"
    }
   ],
   "source": [
    "model_fitted_y = lm_model.fittedvalues  # This retrieves the fitted (predicted) values from the linear regression model \n",
    "sns.residplot(x=model_fitted_y, y='Charges', data=new_df, lowess=True) \n",
    "#A residual plot is a scatter plot that shows the residuals on the vertical axis and the predicted (fitted) values on \n",
    "#the horizontal axis. Residuals are the differences between the actual and predicted values.\n",
    "plt.xlabel('Fitted values')\n",
    "plt.ylabel('Residuals')\n",
    "plt.show()"
   ]
  },
  {
   "cell_type": "raw",
   "metadata": {},
   "source": [
    "The line should be a random line and should not follow a wave like pattern"
   ]
  },
  {
   "cell_type": "raw",
   "metadata": {},
   "source": [
    "Check for Assumption 7-Errors should follow normal distribution.<br>\n",
    "Hint: Diagnostic plot"
   ]
  },
  {
   "cell_type": "code",
   "execution_count": 42,
   "metadata": {},
   "outputs": [
    {
     "data": {
      "image/png": "[encoded data removed]",
      "text/plain": [
       "<Figure size 432x288 with 1 Axes>"
      ]
     },
     "execution_count": 42,
     "metadata": {},
     "output_type": "execute_result"
    },
    {
     "data": {
      "image/png": "[encoded data removed]",
      "text/plain": [
       "<Figure size 432x288 with 1 Axes>"
      ]
     },
     "metadata": {
      "needs_background": "light"
     },
     "output_type": "display_data"
    }
   ],
   "source": [
    "import statsmodels.api as sma\n",
    "sma.qqplot(lm_model.resid, line='s') #The standardized line is a line with a slope of 1 and an intercept of 0,\n",
    "#and it is used as a reference to compare against the distribution of the residuals.\n",
    "#A QQ plot is a graphical tool to assess whether a given dataset follows a particular theoretical distribution.\n",
    "#In the context of residuals from a regression model, it helps to check if the residuals are normally distributed.\n",
    "#lm_model.resid: This extracts the residuals from the linear regression model \n"
   ]
  },
  {
   "cell_type": "raw",
   "metadata": {},
   "source": [
    "The error point should follow red diagnols line\n",
    "The normal qqplot is used to compare a given set os values with standard normal distributed data(Theoritical data's)"
   ]
  },
  {
   "cell_type": "markdown",
   "metadata": {},
   "source": [
    "Check for Assumption 8-Errors should follow constant variance.<br>\n",
    "Hint: Diagnostic plot"
   ]
  },
  {
   "cell_type": "code",
   "execution_count": 43,
   "metadata": {
    "scrolled": true
   },
   "outputs": [
    {
     "data": {
      "image/png": "[encoded data removed]",
      "text/plain": [
       "<Figure size 432x288 with 1 Axes>"
      ]
     },
     "metadata": {
      "needs_background": "light"
     },
     "output_type": "display_data"
    }
   ],
   "source": [
    "model_norm_residuals_abs_sqrt=np.sqrt(np.abs(lm_model.resid)) \n",
    "#This line calculates the square root of the absolute values of the residuals,\n",
    " \n",
    "sns.regplot(x=lm_model.fittedvalues,\n",
    "            y=model_norm_residuals_abs_sqrt,\n",
    "              scatter=True, lowess=True)     \n",
    "#sns.regplot(): This Seaborn function creates a scatter plot of the standardized residuals against the fitted values. \n",
    "#It also includes a lowess (locally weighted scatterplot smoothing) line to help identify trends in the data.\n",
    "plt.ylabel(\"Standarized residuals\")\n",
    "plt.xlabel(\"Fitted value\")\n",
    "plt.show()\n"
   ]
  },
  {
   "cell_type": "markdown",
   "metadata": {},
   "source": [
    "Scale the data using Standard Scaler to prepare it for SGD."
   ]
  },
  {
   "cell_type": "code",
   "execution_count": 44,
   "metadata": {},
   "outputs": [],
   "source": [
    "?sns.regplot"
   ]
  },
  {
   "cell_type": "code",
   "execution_count": 45,
   "metadata": {},
   "outputs": [],
   "source": [
    "#pd.options.display.float_format = '{:.2f}'.format\n",
    "np.set_printoptions(suppress=True)"
   ]
  },
  {
   "cell_type": "code",
   "execution_count": 46,
   "metadata": {},
   "outputs": [
    {
     "name": "stdout",
     "output_type": "stream",
     "text": [
      "[[-1.43876426 -1.0105187  -0.45332    -0.90861367  1.97058663  1.34390459]\n",
      " [-1.50996545  0.98959079  0.5096211  -0.07876719 -0.5074631   0.43849455]\n",
      " [-0.79795355  0.98959079  0.38330685  1.58092576 -0.5074631   0.43849455]\n",
      " ...\n",
      " [-1.50996545 -1.0105187   1.0148781  -0.90861367 -0.5074631   0.43849455]\n",
      " [-1.29636188 -1.0105187  -0.79781341 -0.90861367 -0.5074631   1.34390459]\n",
      " [ 1.55168573 -1.0105187  -0.26138796 -0.90861367  1.97058663 -0.46691549]]\n"
     ]
    }
   ],
   "source": [
    "from sklearn.preprocessing import StandardScaler\n",
    "\n",
    "scaler=StandardScaler()\n",
    "X=scaler.fit_transform(X)\n",
    "print(X)"
   ]
  },
  {
   "cell_type": "markdown",
   "metadata": {},
   "source": [
    "Split the data into train and test.<br>\n",
    "Hint: Make sure you are considering the log transformed Y."
   ]
  },
  {
   "cell_type": "code",
   "execution_count": 47,
   "metadata": {},
   "outputs": [],
   "source": [
    "from sklearn.model_selection import train_test_split\n",
    "\n",
    "#Split the data into test and train\n",
    "X_train, X_test, Y_train, Y_test = train_test_split(X,Y_log, test_size=0.2,\n",
    "                                                    random_state=10)  \n"
   ]
  },
  {
   "cell_type": "markdown",
   "metadata": {},
   "source": [
    "Build the SGDRegressor."
   ]
  },
  {
   "cell_type": "code",
   "execution_count": 48,
   "metadata": {
    "scrolled": true
   },
   "outputs": [
    {
     "name": "stdout",
     "output_type": "stream",
     "text": [
      "[9.09358862]\n",
      "[ 0.35102586 -0.14693724  0.43349556 -0.00081673  0.43827899 -0.20248566]\n"
     ]
    },
    {
     "data": {
      "text/plain": [
       "'\\nprevious values:\\n7.044356761111712\\n[ 0.03524083 -0.06922454  0.01118039  0.09925573  1.55870554 -0.04282443]\\n'"
      ]
     },
     "execution_count": 48,
     "metadata": {},
     "output_type": "execute_result"
    }
   ],
   "source": [
    "from sklearn.linear_model import SGDRegressor #Stochastic Gradient Descent (SGD)\n",
    "\n",
    "lm = SGDRegressor(learning_rate=\"constant\",  \n",
    "# This specifies that a constant learning rate is used throughout the training process. \n",
    "# Other options include \"optimal\" (adaptive learning rate based on a heuristic) and \n",
    "#\"invscaling\" (gradually decreasing learning rate).\n",
    "                  eta0=0.1,  #This is the initial learning rate. It's the step size used to update the model\n",
    "                             #parameters during each iteration.\n",
    "                  shuffle=True, \n",
    "        # It introduces randomness and helps the algorithm to explore different parts of the loss landscape.\n",
    "                  random_state=10, #set seed\n",
    "                  max_iter=1000, #This sets the maximum number of iterations (epochs) that the algorithm will run.\n",
    "                  early_stopping=True,\n",
    "                  # If set to True, training will stop when the score (e.g., the loss) is not improving.\n",
    "                  #It's a form of regularization that prevents overfitting.\n",
    "                  n_iter_no_change=5) \n",
    "        #no of obs to wait for before concluding upon early stopping,If the score doesn't improve for this many consecutive\n",
    "        #epochs,training will stop.\n",
    "lm.fit(X_train,Y_train)\n",
    "\n",
    "# print intercept and coefficients\n",
    "print (lm.intercept_)\n",
    "print (lm.coef_)\n",
    "\"\"\"\n",
    "previous values:\n",
    "7.044356761111712\n",
    "[ 0.03524083 -0.06922454  0.01118039  0.09925573  1.55870554 -0.04282443]\n",
    "\"\"\"\n"
   ]
  },
  {
   "cell_type": "markdown",
   "metadata": {},
   "source": [
    "Predict using the model. Evaluate the model. Perform trial and error to reach the optimum model."
   ]
  },
  {
   "cell_type": "code",
   "execution_count": 49,
   "metadata": {},
   "outputs": [
    {
     "name": "stdout",
     "output_type": "stream",
     "text": [
      "0.46524735005491447\n",
      "0.6572916021765496\n",
      "0.462836744570564\n"
     ]
    }
   ],
   "source": [
    "Y_pred_new=lm.predict(X_test)\n",
    "\n",
    "from sklearn.metrics import r2_score,mean_squared_error\n",
    "import numpy as np\n",
    "\n",
    "r2=r2_score(Y_test,Y_pred_new)\n",
    "print(r2)\n",
    "\n",
    "rmse=np.sqrt(mean_squared_error(Y_test,Y_pred_new))\n",
    "print(rmse)\n",
    "\n",
    "adjusted_r_squared = 1 - (1-r2)*(len(Y)-1)/(len(Y)-X.shape[1]-1)\n",
    "print(adjusted_r_squared)\n"
   ]
  },
  {
   "cell_type": "markdown",
   "metadata": {},
   "source": [
    "Write down your conclusion as to which is the final model that you would go with along with the reasons."
   ]
  },
  {
   "cell_type": "raw",
   "metadata": {},
   "source": [
    "Ridge model will be my final model as it gives best values lower rmse value and r2 and adjusted r2 are closer and intercept\n",
    "and coefficient are \n",
    "7.044356761111712\n",
    "[ 0.03524083 -0.06922454  0.01118039  0.09925573  1.55870554 -0.04282443]\n",
    "\n",
    "with \n",
    "\n",
    "R-squared: 0.7376888175484464\n",
    "RMSE: 0.45336262346262673\n",
    "Adj R-square: 0.7365063479055394"
   ]
  },
  {
   "cell_type": "markdown",
   "metadata": {},
   "source": [
    "Once finalized the model, try predicting the following observations for me.<br>\n",
    "Create the dataframe named \"X_test_sample\" using the given dictionary object.<br>\n",
    "\n",
    "sample_data={\"age\":[56,51,31,64,44,43,56],\n",
    "             \"sex\":[1,0,1,1,0,1,1],\n",
    "             \"bmi\":[19.95,18.05,34.39,25.6,23.98,32.6,33.725],\n",
    "             \"children\":[0,0,3,2,2,2,0],\"smoker\":[1,0,1,0,0,0,0],\"region\":[0,1,1,3,2,3,1]}\n",
    "\n",
    "\n",
    "\n"
   ]
  },
  {
   "cell_type": "code",
   "execution_count": 50,
   "metadata": {},
   "outputs": [
    {
     "data": {
      "text/html": [
       "<div>\n",
       "<style scoped>\n",
       "    .dataframe tbody tr th:only-of-type {\n",
       "        vertical-align: middle;\n",
       "    }\n",
       "\n",
       "    .dataframe tbody tr th {\n",
       "        vertical-align: top;\n",
       "    }\n",
       "\n",
       "    .dataframe thead th {\n",
       "        text-align: right;\n",
       "    }\n",
       "</style>\n",
       "<table border=\"1\" class=\"dataframe\">\n",
       "  <thead>\n",
       "    <tr style=\"text-align: right;\">\n",
       "      <th></th>\n",
       "      <th>age</th>\n",
       "      <th>sex</th>\n",
       "      <th>bmi</th>\n",
       "      <th>children</th>\n",
       "      <th>smoker</th>\n",
       "      <th>region</th>\n",
       "    </tr>\n",
       "  </thead>\n",
       "  <tbody>\n",
       "    <tr>\n",
       "      <th>0</th>\n",
       "      <td>56</td>\n",
       "      <td>1</td>\n",
       "      <td>19.950</td>\n",
       "      <td>0</td>\n",
       "      <td>1</td>\n",
       "      <td>0</td>\n",
       "    </tr>\n",
       "    <tr>\n",
       "      <th>1</th>\n",
       "      <td>51</td>\n",
       "      <td>0</td>\n",
       "      <td>18.050</td>\n",
       "      <td>0</td>\n",
       "      <td>0</td>\n",
       "      <td>1</td>\n",
       "    </tr>\n",
       "    <tr>\n",
       "      <th>2</th>\n",
       "      <td>31</td>\n",
       "      <td>1</td>\n",
       "      <td>34.390</td>\n",
       "      <td>3</td>\n",
       "      <td>1</td>\n",
       "      <td>1</td>\n",
       "    </tr>\n",
       "    <tr>\n",
       "      <th>3</th>\n",
       "      <td>64</td>\n",
       "      <td>1</td>\n",
       "      <td>25.600</td>\n",
       "      <td>2</td>\n",
       "      <td>0</td>\n",
       "      <td>3</td>\n",
       "    </tr>\n",
       "    <tr>\n",
       "      <th>4</th>\n",
       "      <td>44</td>\n",
       "      <td>0</td>\n",
       "      <td>23.980</td>\n",
       "      <td>2</td>\n",
       "      <td>0</td>\n",
       "      <td>2</td>\n",
       "    </tr>\n",
       "    <tr>\n",
       "      <th>5</th>\n",
       "      <td>43</td>\n",
       "      <td>1</td>\n",
       "      <td>32.600</td>\n",
       "      <td>2</td>\n",
       "      <td>0</td>\n",
       "      <td>3</td>\n",
       "    </tr>\n",
       "    <tr>\n",
       "      <th>6</th>\n",
       "      <td>56</td>\n",
       "      <td>1</td>\n",
       "      <td>33.725</td>\n",
       "      <td>0</td>\n",
       "      <td>0</td>\n",
       "      <td>1</td>\n",
       "    </tr>\n",
       "  </tbody>\n",
       "</table>\n",
       "</div>"
      ],
      "text/plain": [
       "   age  sex     bmi  children  smoker  region\n",
       "0   56    1  19.950         0       1       0\n",
       "1   51    0  18.050         0       0       1\n",
       "2   31    1  34.390         3       1       1\n",
       "3   64    1  25.600         2       0       3\n",
       "4   44    0  23.980         2       0       2\n",
       "5   43    1  32.600         2       0       3\n",
       "6   56    1  33.725         0       0       1"
      ]
     },
     "execution_count": 50,
     "metadata": {},
     "output_type": "execute_result"
    }
   ],
   "source": [
    "sample_data={\"age\":[56,51,31,64,44,43,56], \"sex\":[1,0,1,1,0,1,1], \n",
    "                           \"bmi\":[19.95,18.05,34.39,25.6,23.98,32.6,33.725], \"children\":[0,0,3,2,2,2,0],\n",
    "                           \"smoker\":[1,0,1,0,0,0,0],\"region\":[0,1,1,3,2,3,1]}\n",
    "X_test_sample=pd.DataFrame(sample_data)\n",
    "X_test_sample\n"
   ]
  },
  {
   "cell_type": "markdown",
   "metadata": {},
   "source": [
    "The predicted values would be log transformed.Convert them back to original values.<br>\n",
    "Hint: Use np.exp()"
   ]
  },
  {
   "cell_type": "code",
   "execution_count": 51,
   "metadata": {},
   "outputs": [
    {
     "data": {
      "text/plain": [
       "array([45723.73399466,  8108.11331438, 28731.22202506, 14571.18484423,\n",
       "        7910.30349119,  7517.6327568 , 10752.06017639])"
      ]
     },
     "execution_count": 51,
     "metadata": {},
     "output_type": "execute_result"
    }
   ],
   "source": [
    "Y_pred_sample=rid.predict(X_test_sample)\n",
    "Y_pred=np.exp(Y_pred_sample)\n",
    "Y_pred"
   ]
  },
  {
   "cell_type": "markdown",
   "metadata": {},
   "source": [
    "Save the predicted values along with the observations into an excel file."
   ]
  },
  {
   "cell_type": "code",
   "execution_count": 52,
   "metadata": {},
   "outputs": [
    {
     "name": "stdout",
     "output_type": "stream",
     "text": [
      "   age  sex     bmi  children  smoker  region       charges\n",
      "0   56    1  19.950         0       1       0  45723.733995\n",
      "1   51    0  18.050         0       0       1   8108.113314\n",
      "2   31    1  34.390         3       1       1  28731.222025\n",
      "3   64    1  25.600         2       0       3  14571.184844\n",
      "4   44    0  23.980         2       0       2   7910.303491\n",
      "5   43    1  32.600         2       0       3   7517.632757\n",
      "6   56    1  33.725         0       0       1  10752.060176\n"
     ]
    }
   ],
   "source": [
    "X_test_sample['charges']=Y_pred\n",
    "print(X_test_sample)"
   ]
  },
  {
   "cell_type": "code",
   "execution_count": 54,
   "metadata": {},
   "outputs": [],
   "source": [
    "X_test_sample.to_excel(\"Predicted_Values.xlsx\",header=True,index=True)"
   ]
  },
  {
   "cell_type": "code",
   "execution_count": null,
   "metadata": {},
   "outputs": [],
   "source": []
  }
 ],
 "metadata": {
  "kernelspec": {
   "display_name": "Python 3",
   "language": "python",
   "name": "python3"
  },
  "language_info": {
   "codemirror_mode": {
    "name": "ipython",
    "version": 3
   },
   "file_extension": ".py",
   "mimetype": "text/x-python",
   "name": "python",
   "nbconvert_exporter": "python",
   "pygments_lexer": "ipython3",
   "version": "3.7.6"
  }
 },
 "nbformat": 4,
 "nbformat_minor": 2
}
